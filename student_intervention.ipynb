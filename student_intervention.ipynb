{
 "cells": [
  {
   "cell_type": "markdown",
   "metadata": {},
   "source": [
    "# Machine Learning Engineer Nanodegree\n",
    "## Supervised Learning\n",
    "## Project 2: Building a Student Intervention System"
   ]
  },
  {
   "cell_type": "markdown",
   "metadata": {},
   "source": [
    "Welcome to the second project of the Machine Learning Engineer Nanodegree! In this notebook, some template code has already been provided for you, and it will be your job to implement the additional functionality necessary to successfully complete this project. Sections that begin with **'Implementation'** in the header indicate that the following block of code will require additional functionality which you must provide. Instructions will be provided for each section and the specifics of the implementation are marked in the code block with a `'TODO'` statement. Please be sure to read the instructions carefully!\n",
    "\n",
    "In addition to implementing code, there will be questions that you must answer which relate to the project and your implementation. Each section where you will answer a question is preceded by a **'Question X'** header. Carefully read each question and provide thorough answers in the following text boxes that begin with **'Answer:'**. Your project submission will be evaluated based on your answers to each of the questions and the implementation you provide.  \n",
    "\n",
    ">**Note:** Code and Markdown cells can be executed using the **Shift + Enter** keyboard shortcut. In addition, Markdown cells can be edited by typically double-clicking the cell to enter edit mode."
   ]
  },
  {
   "cell_type": "markdown",
   "metadata": {},
   "source": [
    "### Question 1 - Classification vs. Regression\n",
    "*Your goal for this project is to identify students who might need early intervention before they fail to graduate. Which type of supervised learning problem is this, classification or regression? Why?*"
   ]
  },
  {
   "cell_type": "markdown",
   "metadata": {},
   "source": [
    "**Answer: This should be a classification problem for this project since we are trying to identify whether the students would drop out or not. And we would get discrete label (i.e. \"passed\" or \"failed\") based on the dataset. Regression problems have numerical (continuous) response variables which are not what we are looking for in this project. **"
   ]
  },
  {
   "cell_type": "markdown",
   "metadata": {},
   "source": [
    "## Exploring the Data\n",
    "Run the code cell below to load necessary Python libraries and load the student data. Note that the last column from this dataset, `'passed'`, will be our target label (whether the student graduated or didn't graduate). All other columns are features about each student."
   ]
  },
  {
   "cell_type": "code",
   "execution_count": 3,
   "metadata": {
    "collapsed": false
   },
   "outputs": [
    {
     "name": "stdout",
     "output_type": "stream",
     "text": [
      "Student data read successfully!\n"
     ]
    }
   ],
   "source": [
    "# Import libraries\n",
    "import numpy as np\n",
    "import pandas as pd\n",
    "from time import time\n",
    "from sklearn.metrics import f1_score\n",
    "\n",
    "# Read student data\n",
    "student_data = pd.read_csv(\"student-data.csv\")\n",
    "print \"Student data read successfully!\""
   ]
  },
  {
   "cell_type": "markdown",
   "metadata": {},
   "source": [
    "### Implementation: Data Exploration\n",
    "Let's begin by investigating the dataset to determine how many students we have information on, and learn about the graduation rate among these students. In the code cell below, you will need to compute the following:\n",
    "- The total number of students, `n_students`.\n",
    "- The total number of features for each student, `n_features`.\n",
    "- The number of those students who passed, `n_passed`.\n",
    "- The number of those students who failed, `n_failed`.\n",
    "- The graduation rate of the class, `grad_rate`, in percent (%).\n"
   ]
  },
  {
   "cell_type": "code",
   "execution_count": 5,
   "metadata": {
    "collapsed": false
   },
   "outputs": [
    {
     "name": "stdout",
     "output_type": "stream",
     "text": [
      "Total number of students: 395\n",
      "Number of features: 30\n",
      "Number of students who passed: 265\n",
      "Number of students who failed: 130\n",
      "Graduation rate of the class: 67.09%\n"
     ]
    }
   ],
   "source": [
    "\n",
    "# TODO: Calculate number of students\n",
    "n_students = student_data.shape[0]\n",
    "\n",
    "# TODO: Calculate number of features\n",
    "n_features = student_data.shape[1]-1\n",
    "\n",
    "\n",
    "# TODO: Calculate passing students\n",
    "n_passed = np.sum(student_data[\"passed\"] ==\"yes\")\n",
    "\n",
    "# TODO: Calculate failing students\n",
    "n_failed = np.sum(student_data[\"passed\"] == \"no\")\n",
    "\n",
    "# TODO: Calculate graduation rate\n",
    "grad_rate = float(n_passed)/n_students*100\n",
    "\n",
    "# Print the results\n",
    "print \"Total number of students: {}\".format(n_students)\n",
    "print \"Number of features: {}\".format(n_features)\n",
    "print \"Number of students who passed: {}\".format(n_passed)\n",
    "print \"Number of students who failed: {}\".format(n_failed)\n",
    "print \"Graduation rate of the class: {:.2f}%\".format(grad_rate)"
   ]
  },
  {
   "cell_type": "markdown",
   "metadata": {},
   "source": [
    "## Preparing the Data\n",
    "In this section, we will prepare the data for modeling, training and testing.\n",
    "\n",
    "### Identify feature and target columns\n",
    "It is often the case that the data you obtain contains non-numeric features. This can be a problem, as most machine learning algorithms expect numeric data to perform computations with.\n",
    "\n",
    "Run the code cell below to separate the student data into feature and target columns to see if any features are non-numeric."
   ]
  },
  {
   "cell_type": "code",
   "execution_count": 38,
   "metadata": {
    "collapsed": false
   },
   "outputs": [
    {
     "name": "stdout",
     "output_type": "stream",
     "text": [
      "Feature columns:\n",
      "['school', 'sex', 'age', 'address', 'famsize', 'Pstatus', 'Medu', 'Fedu', 'Mjob', 'Fjob', 'reason', 'guardian', 'traveltime', 'studytime', 'failures', 'schoolsup', 'famsup', 'paid', 'activities', 'nursery', 'higher', 'internet', 'romantic', 'famrel', 'freetime', 'goout', 'Dalc', 'Walc', 'health', 'absences']\n",
      "\n",
      "Target column: passed\n",
      "\n",
      "Feature values:\n",
      "  school sex  age address famsize Pstatus  Medu  Fedu     Mjob      Fjob  \\\n",
      "0     GP   F   18       U     GT3       A     4     4  at_home   teacher   \n",
      "1     GP   F   17       U     GT3       T     1     1  at_home     other   \n",
      "2     GP   F   15       U     LE3       T     1     1  at_home     other   \n",
      "3     GP   F   15       U     GT3       T     4     2   health  services   \n",
      "4     GP   F   16       U     GT3       T     3     3    other     other   \n",
      "\n",
      "    ...    higher internet  romantic  famrel  freetime goout Dalc Walc health  \\\n",
      "0   ...       yes       no        no       4         3     4    1    1      3   \n",
      "1   ...       yes      yes        no       5         3     3    1    1      3   \n",
      "2   ...       yes      yes        no       4         3     2    2    3      3   \n",
      "3   ...       yes      yes       yes       3         2     2    1    1      5   \n",
      "4   ...       yes       no        no       4         3     2    1    2      5   \n",
      "\n",
      "  absences  \n",
      "0        6  \n",
      "1        4  \n",
      "2       10  \n",
      "3        2  \n",
      "4        4  \n",
      "\n",
      "[5 rows x 30 columns]\n"
     ]
    }
   ],
   "source": [
    "# Extract feature columns\n",
    "feature_cols = list(student_data.columns[:-1])\n",
    "\n",
    "# Extract target column 'passed'\n",
    "target_col = student_data.columns[-1] \n",
    "\n",
    "# Show the list of columns\n",
    "print \"Feature columns:\\n{}\".format(feature_cols)\n",
    "print \"\\nTarget column: {}\".format(target_col)\n",
    "\n",
    "# Separate the data into feature data and target data (X_all and y_all, respectively)\n",
    "X_all = student_data[feature_cols]\n",
    "y_all = student_data[target_col]\n",
    "\n",
    "# Show the feature information by printing the first five rows\n",
    "print \"\\nFeature values:\"\n",
    "print X_all.head()"
   ]
  },
  {
   "cell_type": "markdown",
   "metadata": {},
   "source": [
    "### Preprocess Feature Columns\n",
    "\n",
    "As you can see, there are several non-numeric columns that need to be converted! Many of them are simply `yes`/`no`, e.g. `internet`. These can be reasonably converted into `1`/`0` (binary) values.\n",
    "\n",
    "Other columns, like `Mjob` and `Fjob`, have more than two values, and are known as _categorical variables_. The recommended way to handle such a column is to create as many columns as possible values (e.g. `Fjob_teacher`, `Fjob_other`, `Fjob_services`, etc.), and assign a `1` to one of them and `0` to all others.\n",
    "\n",
    "These generated columns are sometimes called _dummy variables_, and we will use the [`pandas.get_dummies()`](http://pandas.pydata.org/pandas-docs/stable/generated/pandas.get_dummies.html?highlight=get_dummies#pandas.get_dummies) function to perform this transformation. Run the code cell below to perform the preprocessing routine discussed in this section."
   ]
  },
  {
   "cell_type": "code",
   "execution_count": 40,
   "metadata": {
    "collapsed": false
   },
   "outputs": [
    {
     "name": "stdout",
     "output_type": "stream",
     "text": [
      "Processed feature columns (48 total features):\n",
      "['school_GP', 'school_MS', 'sex_F', 'sex_M', 'age', 'address_R', 'address_U', 'famsize_GT3', 'famsize_LE3', 'Pstatus_A', 'Pstatus_T', 'Medu', 'Fedu', 'Mjob_at_home', 'Mjob_health', 'Mjob_other', 'Mjob_services', 'Mjob_teacher', 'Fjob_at_home', 'Fjob_health', 'Fjob_other', 'Fjob_services', 'Fjob_teacher', 'reason_course', 'reason_home', 'reason_other', 'reason_reputation', 'guardian_father', 'guardian_mother', 'guardian_other', 'traveltime', 'studytime', 'failures', 'schoolsup', 'famsup', 'paid', 'activities', 'nursery', 'higher', 'internet', 'romantic', 'famrel', 'freetime', 'goout', 'Dalc', 'Walc', 'health', 'absences']\n"
     ]
    }
   ],
   "source": [
    "def preprocess_features(X):\n",
    "    ''' Preprocesses the student data and converts non-numeric binary variables into\n",
    "        binary (0/1) variables. Converts categorical variables into dummy variables. '''\n",
    "    \n",
    "    # Initialize new output DataFrame\n",
    "    output = pd.DataFrame(index = X.index)\n",
    "\n",
    "    # Investigate each feature column for the data\n",
    "    for col, col_data in X.iteritems():\n",
    "        \n",
    "        # If data type is non-numeric, replace all yes/no values with 1/0\n",
    "        if col_data.dtype == object:\n",
    "            col_data = col_data.replace(['yes', 'no'], [1, 0])\n",
    "\n",
    "        # If data type is categorical, convert to dummy variables\n",
    "        if col_data.dtype == object:\n",
    "            # Example: 'school' => 'school_GP' and 'school_MS'\n",
    "            col_data = pd.get_dummies(col_data, prefix = col)  \n",
    "        \n",
    "        # Collect the revised columns\n",
    "        output = output.join(col_data)\n",
    "    \n",
    "    return output\n",
    "\n",
    "X_all = preprocess_features(X_all)\n",
    "print \"Processed feature columns ({} total features):\\n{}\".format(len(X_all.columns), list(X_all.columns))"
   ]
  },
  {
   "cell_type": "markdown",
   "metadata": {},
   "source": [
    "### Implementation: Training and Testing Data Split\n",
    "So far, we have converted all _categorical_ features into numeric values. For the next step, we split the data (both features and corresponding labels) into training and test sets. In the following code cell below, you will need to implement the following:\n",
    "- Randomly shuffle and split the data (`X_all`, `y_all`) into training and testing subsets.\n",
    "  - Use 300 training points (approximately 75%) and 95 testing points (approximately 25%).\n",
    "  - Set a `random_state` for the function(s) you use, if provided.\n",
    "  - Store the results in `X_train`, `X_test`, `y_train`, and `y_test`."
   ]
  },
  {
   "cell_type": "code",
   "execution_count": 41,
   "metadata": {
    "collapsed": false
   },
   "outputs": [
    {
     "name": "stdout",
     "output_type": "stream",
     "text": [
      "Training set has 300 samples.\n",
      "Testing set has 95 samples.\n"
     ]
    }
   ],
   "source": [
    "# TODO: Import any additional functionality you may need here\n",
    "from sklearn.cross_validation import train_test_split\n",
    "\n",
    "# TODO: Set the number of training points\n",
    "num_train = 300\n",
    "\n",
    "# Set the number of testing points\n",
    "num_test = X_all.shape[0] - num_train\n",
    "\n",
    "# TODO: Shuffle and split the dataset into the number of training and testing points above\n",
    "X_train,X_test,y_train,y_test = train_test_split(X_all,y_all,test_size = num_test,train_size = num_train,random_state = 40)\n",
    "\n",
    "# Show the results of the split\n",
    "print \"Training set has {} samples.\".format(X_train.shape[0])\n",
    "print \"Testing set has {} samples.\".format(X_test.shape[0])"
   ]
  },
  {
   "cell_type": "markdown",
   "metadata": {},
   "source": [
    "## Training and Evaluating Models\n",
    "In this section, you will choose 3 supervised learning models that are appropriate for this problem and available in `scikit-learn`. You will first discuss the reasoning behind choosing these three models by considering what you know about the data and each model's strengths and weaknesses. You will then fit the model to varying sizes of training data (100 data points, 200 data points, and 300 data points) and measure the F<sub>1</sub> score. You will need to produce three tables (one for each model) that shows the training set size, training time, prediction time, F<sub>1</sub> score on the training set, and F<sub>1</sub> score on the testing set."
   ]
  },
  {
   "cell_type": "markdown",
   "metadata": {},
   "source": [
    "### Question 2 - Model Application\n",
    "*List three supervised learning models that are appropriate for this problem. What are the general applications of each model? What are their strengths and weaknesses? Given what you know about the data, why did you choose these models to be applied?*"
   ]
  },
  {
   "cell_type": "markdown",
   "metadata": {},
   "source": [
    "**Answer: Since this is a classification problem, I chose the following algorithms. \n",
    "1. Decision Tree Classifier.\n",
    "http://scikit-learn.org/stable/modules/tree.html\n",
    "  - What are the general applications?\n",
    "      - Decision Trees is to create a model that predicts the value of a target variable by learning simple decision rules inferred from the data features.\n",
    "  - What are the strengths and weaknesses\n",
    "      - Pros\n",
    "          - Easy to understand.\n",
    "          - Requires little data preparation compared to other algorithms which often require data normalization.\n",
    "          - Able to handle both numerical and categorical data.\n",
    "          - The data points are recursively split to form the tree, therefore the prediction time is logarithmic in the number of data points used to train the tree.\n",
    "      - Cons\n",
    "          - Decision trees can easily overfit if the trees are over-complex.\n",
    "          - Decision trees can be unstable because small variations in the data might result in a completely different tree being generated.\n",
    "          - It is hard for Decision trees to learn some concepts i.e. XOR, parity.\n",
    "          - Decision tree learners create biased trees if some classes dominate.\n",
    "  - Given what you know about the data, why did you choose these models to be applied?\n",
    "      - Since the give values of the features in this dataset are simple, which would be easily understand. And the dataset only has 300 training data points. Using decision tree to predict would be relatively fast.\n",
    "\n",
    "2. K-Nearest Neighbors Classifier\n",
    "http://scikit-learn.org/stable/modules/neighbors.html\n",
    "   - What are the general applications?\n",
    "      - KNN find a predefined number of training samples closest in distance to the new point, and predict the label from these.\n",
    "  - What are the strengths and weaknesses\n",
    "      - Pros\n",
    "          - Nearest neighbors classifier is lazy learner. Training time is short.\n",
    "          - It is useful when decision boundary is blurred.\n",
    "          - It doesn't need to normalize the data. \n",
    "          - It can handle missing data.\n",
    "      - Cons\n",
    "          - It requires significant amount of space to store the data without any calculations.\n",
    "          - Prediction time can be slow.\n",
    "          - Treat every feature equally.\n",
    "  - Given what you know about the data, why did you choose these models to be applied?\n",
    "      - Since the dataset is small, the KNN's prediction time may not have a big impact. KNN is good at categorizing based on similarity.\n",
    "\n",
    "3. SVM Classifier\n",
    "http://scikit-learn.org/stable/modules/svm.html\n",
    "   - What are the general applications?\n",
    "      - SVM classifies data by looking for the hyperplane with biggest margin.\n",
    "  - What are the strengths and weaknesses\n",
    "      - Pros\n",
    "          - It is effective in high dimensional spaces\n",
    "          - It is able to separate non-linearly separable data.\n",
    "          - It is robust to outliers since only the support vectors affect the weights.\n",
    "          - It doesn't require too much space to keep the support vectors.\n",
    "          - Prediction time is short.\n",
    "      - Cons\n",
    "          - The algorithm is likely to give poor performances if the number of features is much greater than the number of samples.\n",
    "          - It doesn't directly provide probability estimates.\n",
    "  - Given what you know about the data, why did you choose these models to be applied?\n",
    "      - Computation cost would not have a big impact since the dataset is small. SVM is helpful to separate non-linearly separable data.\n",
    "**"
   ]
  },
  {
   "cell_type": "markdown",
   "metadata": {},
   "source": [
    "### Setup\n",
    "Run the code cell below to initialize three helper functions which you can use for training and testing the three supervised learning models you've chosen above. The functions are as follows:\n",
    "- `train_classifier` - takes as input a classifier and training data and fits the classifier to the data.\n",
    "- `predict_labels` - takes as input a fit classifier, features, and a target labeling and makes predictions using the F<sub>1</sub> score.\n",
    "- `train_predict` - takes as input a classifier, and the training and testing data, and performs `train_clasifier` and `predict_labels`.\n",
    " - This function will report the F<sub>1</sub> score for both the training and testing data separately."
   ]
  },
  {
   "cell_type": "code",
   "execution_count": 43,
   "metadata": {
    "collapsed": false
   },
   "outputs": [],
   "source": [
    "def train_classifier(clf, X_train, y_train):\n",
    "    ''' Fits a classifier to the training data. '''\n",
    "    \n",
    "    # Start the clock, train the classifier, then stop the clock\n",
    "    start = time()\n",
    "    clf.fit(X_train, y_train)\n",
    "    end = time()\n",
    "    \n",
    "    # Print the results\n",
    "    print \"Trained model in {:.4f} seconds\".format(end - start)\n",
    "\n",
    "    \n",
    "def predict_labels(clf, features, target):\n",
    "    ''' Makes predictions using a fit classifier based on F1 score. '''\n",
    "    \n",
    "    # Start the clock, make predictions, then stop the clock\n",
    "    start = time()\n",
    "    y_pred = clf.predict(features)\n",
    "    end = time()\n",
    "    \n",
    "    # Print and return results\n",
    "    print \"Made predictions in {:.4f} seconds.\".format(end - start)\n",
    "    return f1_score(target.values, y_pred, pos_label='yes')\n",
    "\n",
    "\n",
    "def train_predict(clf, X_train, y_train, X_test, y_test):\n",
    "    ''' Train and predict using a classifer based on F1 score. '''\n",
    "    \n",
    "    # Indicate the classifier and the training set size\n",
    "    print \"Training a {} using a training set size of {}. . .\".format(clf.__class__.__name__, len(X_train))\n",
    "    \n",
    "    # Train the classifier\n",
    "    train_classifier(clf, X_train, y_train)\n",
    "    \n",
    "    # Print the results of prediction for both training and testing\n",
    "    print \"F1 score for training set: {:.4f}.\".format(predict_labels(clf, X_train, y_train))\n",
    "    print \"F1 score for test set: {:.4f}.\".format(predict_labels(clf, X_test, y_test))"
   ]
  },
  {
   "cell_type": "markdown",
   "metadata": {},
   "source": [
    "### Implementation: Model Performance Metrics\n",
    "With the predefined functions above, you will now import the three supervised learning models of your choice and run the `train_predict` function for each one. Remember that you will need to train and predict on each classifier for three different training set sizes: 100, 200, and 300. Hence, you should expect to have 9 different outputs below — 3 for each model using the varying training set sizes. In the following code cell, you will need to implement the following:\n",
    "- Import the three supervised learning models you've discussed in the previous section.\n",
    "- Initialize the three models and store them in `clf_A`, `clf_B`, and `clf_C`.\n",
    " - Use a `random_state` for each model you use, if provided.\n",
    " - **Note:** Use the default settings for each model — you will tune one specific model in a later section.\n",
    "- Create the different training set sizes to be used to train each model.\n",
    " - *Do not reshuffle and resplit the data! The new training points should be drawn from `X_train` and `y_train`.*\n",
    "- Fit each model with each training set size and make predictions on the test set (9 in total).  \n",
    "**Note:** Three tables are provided after the following code cell which can be used to store your results."
   ]
  },
  {
   "cell_type": "code",
   "execution_count": 56,
   "metadata": {
    "collapsed": false
   },
   "outputs": [
    {
     "name": "stdout",
     "output_type": "stream",
     "text": [
      "Decision tree training:\n",
      "Training a DecisionTreeClassifier using a training set size of 100. . .\n",
      "Trained model in 0.0040 seconds\n",
      "Made predictions in 0.0000 seconds.\n",
      "F1 score for training set: 1.0000.\n",
      "Made predictions in 0.0000 seconds.\n",
      "F1 score for test set: 0.6774.\n",
      "\n",
      "\n",
      "Training a DecisionTreeClassifier using a training set size of 200. . .\n",
      "Trained model in 0.0030 seconds\n",
      "Made predictions in 0.0000 seconds.\n",
      "F1 score for training set: 1.0000.\n",
      "Made predictions in 0.0000 seconds.\n",
      "F1 score for test set: 0.7143.\n",
      "\n",
      "\n",
      "Training a DecisionTreeClassifier using a training set size of 300. . .\n",
      "Trained model in 0.0020 seconds\n",
      "Made predictions in 0.0010 seconds.\n",
      "F1 score for training set: 1.0000.\n",
      "Made predictions in 0.0010 seconds.\n",
      "F1 score for test set: 0.7634.\n",
      "\n",
      "-------------------------------------------------------\n",
      "KNN training:\n",
      "Training a KNeighborsClassifier using a training set size of 100. . .\n",
      "Trained model in 0.0010 seconds\n",
      "Made predictions in 0.0040 seconds.\n",
      "F1 score for training set: 0.8477.\n",
      "Made predictions in 0.0020 seconds.\n",
      "F1 score for test set: 0.7413.\n",
      "\n",
      "\n",
      "Training a KNeighborsClassifier using a training set size of 200. . .\n",
      "Trained model in 0.0010 seconds\n",
      "Made predictions in 0.0040 seconds.\n",
      "F1 score for training set: 0.8211.\n",
      "Made predictions in 0.0030 seconds.\n",
      "F1 score for test set: 0.7448.\n",
      "\n",
      "\n",
      "Training a KNeighborsClassifier using a training set size of 300. . .\n",
      "Trained model in 0.0010 seconds\n",
      "Made predictions in 0.0090 seconds.\n",
      "F1 score for training set: 0.8505.\n",
      "Made predictions in 0.0030 seconds.\n",
      "F1 score for test set: 0.7838.\n",
      "\n",
      "-------------------------------------------------------\n",
      "SVM training:\n",
      "Training a SVC using a training set size of 100. . .\n",
      "Trained model in 0.0030 seconds\n",
      "Made predictions in 0.0020 seconds.\n",
      "F1 score for training set: 0.8750.\n",
      "Made predictions in 0.0010 seconds.\n",
      "F1 score for test set: 0.8199.\n",
      "\n",
      "\n",
      "Training a SVC using a training set size of 200. . .\n",
      "Trained model in 0.0070 seconds\n",
      "Made predictions in 0.0050 seconds.\n",
      "F1 score for training set: 0.8664.\n",
      "Made predictions in 0.0030 seconds.\n",
      "F1 score for test set: 0.7895.\n",
      "\n",
      "\n",
      "Training a SVC using a training set size of 300. . .\n",
      "Trained model in 0.0190 seconds\n",
      "Made predictions in 0.0080 seconds.\n",
      "F1 score for training set: 0.8786.\n",
      "Made predictions in 0.0020 seconds.\n",
      "F1 score for test set: 0.8366.\n",
      "\n",
      "-------------------------------------------------------\n"
     ]
    }
   ],
   "source": [
    "# TODO: Import the three supervised learning models from sklearn\n",
    "# from sklearn import model_A\n",
    "# from sklearn import model_B\n",
    "# from skearln import model_C\n",
    "from sklearn import tree\n",
    "from sklearn import neighbors\n",
    "from sklearn import svm \n",
    "\n",
    "# TODO: Initialize the three models\n",
    "clf_A = tree.DecisionTreeClassifier(random_state = 42)\n",
    "clf_B = neighbors.KNeighborsClassifier()\n",
    "clf_C = svm.SVC(random_state = 42)\n",
    "\n",
    "# TODO: Set up the training set sizes\n",
    "X_train_100 = X_train[0:100]\n",
    "y_train_100 = y_train[0:100]\n",
    "\n",
    "X_train_200 = X_train[0:200]\n",
    "y_train_200 = y_train[0:200]\n",
    "\n",
    "X_train_300 = X_train[0:300]\n",
    "y_train_300 = y_train[0:300]\n",
    "\n",
    "# TODO: Execute the 'train_predict' function for each classifier and each training set size\n",
    "#Decision tree training\n",
    "print \"Decision tree training:\"\n",
    "train_predict(clf_A, X_train_100, y_train_100, X_test, y_test)\n",
    "print \"\\n\"\n",
    "train_predict(clf_A, X_train_200, y_train_200, X_test, y_test)\n",
    "print \"\\n\"\n",
    "train_predict(clf_A, X_train_300, y_train_300, X_test, y_test)\n",
    "print \"\\n-------------------------------------------------------\"\n",
    "\n",
    "#KNN training\n",
    "print \"KNN training:\"\n",
    "train_predict(clf_B, X_train_100, y_train_100, X_test, y_test)\n",
    "print \"\\n\"\n",
    "train_predict(clf_B, X_train_200, y_train_200, X_test, y_test)\n",
    "print \"\\n\"\n",
    "train_predict(clf_B, X_train_300, y_train_300, X_test, y_test)\n",
    "print \"\\n-------------------------------------------------------\"\n",
    "\n",
    "#SVM training\n",
    "print \"SVM training:\"\n",
    "train_predict(clf_C, X_train_100, y_train_100, X_test, y_test)\n",
    "print \"\\n\"\n",
    "train_predict(clf_C, X_train_200, y_train_200, X_test, y_test)\n",
    "print \"\\n\"\n",
    "train_predict(clf_C, X_train_300, y_train_300, X_test, y_test)\n",
    "print \"\\n-------------------------------------------------------\""
   ]
  },
  {
   "cell_type": "markdown",
   "metadata": {},
   "source": [
    "### Tabular Results\n",
    "Edit the cell below to see how a table can be designed in [Markdown](https://github.com/adam-p/markdown-here/wiki/Markdown-Cheatsheet#tables). You can record your results from above in the tables provided."
   ]
  },
  {
   "cell_type": "markdown",
   "metadata": {},
   "source": [
    "** Classifer 1 - Decision Tree Classifier**  \n",
    "\n",
    "| Training Set Size | Prediction Time (train) | Prediction Time (test) | F1 Score (train) | F1 Score (test) |\n",
    "| :---------------: | :---------------------: | :--------------------: | :--------------: | :-------------: |\n",
    "| 100               |            0.0000             |            0.0000            |       1.0000           |         0.6774        |\n",
    "| 200               |           0.0010       |           0.0000             |        1.0000          |         0.7143        |\n",
    "| 300               |          0.0010               |         0.0010               |       1.0000           |    0.7643      |\n",
    "\n",
    "** Classifer 2 - KNN Classifier**  \n",
    "\n",
    "| Training Set Size | Prediction Time (train) | Prediction Time (test) | F1 Score (train) | F1 Score (test) |\n",
    "| :---------------: | :---------------------: | :--------------------: | :--------------: | :-------------: |\n",
    "| 100               |           0.0040              |          0.0020              |      0.8477            |       0.7413          |\n",
    "| 200               |     0.0040             |          0.0030              |         0.8211         |       0.7488          |\n",
    "| 300               |              0.0090           |            0.0040            |    0.8505              |     0.7838     |\n",
    "\n",
    "** Classifer 3 - SVM Classifier**  \n",
    "\n",
    "| Training Set Size | Prediction Time (train) | Prediction Time (test) | F1 Score (train) | F1 Score (test) |\n",
    "| :---------------: | :---------------------: | :--------------------: | :--------------: | :-------------: |\n",
    "| 100               |         0.0020                |        0.0010                |      0.8750            |       0.8199          |\n",
    "| 200               |        0.0050                 |          0.0030              |    0.8664              |         0.7895        |\n",
    "| 300               |           0.0810              |        0.0020                |      0.8786            |          0.8366       |"
   ]
  },
  {
   "cell_type": "markdown",
   "metadata": {},
   "source": [
    "## Choosing the Best Model\n",
    "In this final section, you will choose from the three supervised learning models the *best* model to use on the student data. You will then perform a grid search optimization for the model over the entire training set (`X_train` and `y_train`) by tuning at least one parameter to improve upon the untuned model's F<sub>1</sub> score. "
   ]
  },
  {
   "cell_type": "markdown",
   "metadata": {},
   "source": [
    "### Question 3 - Chosing the Best Model\n",
    "*Based on the experiments you performed earlier, in one to two paragraphs, explain to the board of supervisors what single model you chose as the best model. Which model is generally the most appropriate based on the available data, limited resources, cost, and performance?*"
   ]
  },
  {
   "cell_type": "markdown",
   "metadata": {},
   "source": [
    "**Answer: \n",
    "We first look at the metric score. We use F1 score to measure the algorithm performance. Decision Tree Classifier achieved perfect F1 score on training dataset while it performed poorly on the test set, which means Decision Tree was overfitting the data. Then, if we compared the F1 scores between KNN Classifier and SVM Classifier, SVM Classifier got higher F1 score on both training dataset and test dataset. So from the performance perspective, SVM Classifier is the best.\n",
    "\n",
    "Second, we look at the computational costs. Once the classifier is trained, Decision Tree Classifier is very fast on  predicting the result. KNN is fast on training since it only stores the data, but it is slow on prediction. SVM takes longest time on training classifier, but it is faster on prediction compared to KNN. Since we only train the data one time, and may do the prediction a lot every time when there is new data need to be analyzed, we need to put more weights on prediction time. So from the computational costs perspective, Decision Treen Classifier is the best, SVM is the second.\n",
    "\n",
    "According to the reasons above, although Decision Tree Classifier is the fastest, it is not reliable based on the performance, so we will not choose Decision Tree Classifier. SVM would be the best model that we should choose.**"
   ]
  },
  {
   "cell_type": "markdown",
   "metadata": {},
   "source": [
    "### Question 4 - Model in Layman's Terms\n",
    "*In one to two paragraphs, explain to the board of directors in layman's terms how the final model chosen is supposed to work. For example if you've chosen to use a decision tree or a support vector machine, how does the model go about making a prediction?*"
   ]
  },
  {
   "cell_type": "markdown",
   "metadata": {},
   "source": [
    "**Answer: SVM is trying t find the biggest gap between two groups of baloons on the ground and put a stick between them. Based on the closest balls, SVM can decide where to put the stick. If there is no way to put the stick on the ground, we can release some baloons in the air and slide a sheet of paper to seperate these two groups of baloons.**"
   ]
  },
  {
   "cell_type": "markdown",
   "metadata": {},
   "source": [
    "### Implementation: Model Tuning\n",
    "Fine tune the chosen model. Use grid search (`GridSearchCV`) with at least one important parameter tuned with at least 3 different values. You will need to use the entire training set for this. In the code cell below, you will need to implement the following:\n",
    "- Import [`sklearn.grid_search.gridSearchCV`](http://scikit-learn.org/stable/modules/generated/sklearn.grid_search.GridSearchCV.html) and [`sklearn.metrics.make_scorer`](http://scikit-learn.org/stable/modules/generated/sklearn.metrics.make_scorer.html).\n",
    "- Create a dictionary of parameters you wish to tune for the chosen model.\n",
    " - Example: `parameters = {'parameter' : [list of values]}`.\n",
    "- Initialize the classifier you've chosen and store it in `clf`.\n",
    "- Create the F<sub>1</sub> scoring function using `make_scorer` and store it in `f1_scorer`.\n",
    " - Set the `pos_label` parameter to the correct value!\n",
    "- Perform grid search on the classifier `clf` using `f1_scorer` as the scoring method, and store it in `grid_obj`.\n",
    "- Fit the grid search object to the training data (`X_train`, `y_train`), and store it in `grid_obj`."
   ]
  },
  {
   "cell_type": "code",
   "execution_count": 91,
   "metadata": {
    "collapsed": false
   },
   "outputs": [
    {
     "name": "stdout",
     "output_type": "stream",
     "text": [
      "best estimator: SVC(C=1, cache_size=200, class_weight=None, coef0=0.0,\n",
      "  decision_function_shape=None, degree=3, gamma=0.07, kernel='rbf',\n",
      "  max_iter=-1, probability=False, random_state=None, shrinking=True,\n",
      "  tol=0.001, verbose=False)\n",
      "Made predictions in 0.0090 seconds.\n",
      "Tuned model has a training F1 score of 0.9431.\n",
      "Made predictions in 0.0030 seconds.\n",
      "Tuned model has a testing F1 score of 0.8280.\n"
     ]
    }
   ],
   "source": [
    "# TODO: Import 'gridSearchCV' and 'make_scorer'\n",
    "from sklearn.grid_search import GridSearchCV\n",
    "from sklearn.metrics import make_scorer\n",
    "\n",
    "# TODO: Create the parameters list you wish to tune\n",
    "parameters = {'kernel':['linear','rbf','poly'],'C': [1, 1e1, 1e2],'gamma': [1e-1, 0.09,0.07]}\n",
    "\n",
    "# TODO: Initialize the classifier\n",
    "clf = svm.SVC()\n",
    "\n",
    "# TODO: Make an f1 scoring function using 'make_scorer' \n",
    "f1_scorer = make_scorer(f1_score, pos_label='yes')\n",
    "\n",
    "# TODO: Perform grid search on the classifier using the f1_scorer as the scoring method\n",
    "grid_obj = GridSearchCV(estimator=clf,param_grid=parameters,scoring=f1_scorer)\n",
    "\n",
    "# TODO: Fit the grid search object to the training data and find the optimal parameters\n",
    "grid_obj.fit(X_train,y_train)\n",
    "\n",
    "# Get the estimator\n",
    "clf = grid_obj.best_estimator_\n",
    "\n",
    "# Report the final F1 score for training and testing after parameter tuning\n",
    "print \"best estimator:\",clf\n",
    "print \"Tuned model has a training F1 score of {:.4f}.\".format(predict_labels(clf, X_train, y_train))\n",
    "print \"Tuned model has a testing F1 score of {:.4f}.\".format(predict_labels(clf, X_test, y_test))\n"
   ]
  },
  {
   "cell_type": "markdown",
   "metadata": {},
   "source": [
    "### Question 5 - Final F<sub>1</sub> Score\n",
    "*What is the final model's F<sub>1</sub> score for training and testing? How does that score compare to the untuned model?*"
   ]
  },
  {
   "cell_type": "markdown",
   "metadata": {},
   "source": [
    "**Answer: \n",
    "- Tuned SVC model\n",
    "    - F1 score for training: 0.9431\n",
    "    - F1 score for testing: 0.8280\n",
    "- I choose to tune kernal, C and gamma. Compared to the untuned SVC model, the tuned SVC model doesn't improve the prediction result.**"
   ]
  },
  {
   "cell_type": "markdown",
   "metadata": {},
   "source": [
    "> **Note**: Once you have completed all of the code implementations and successfully answered each question above, you may finalize your work by exporting the iPython Notebook as an HTML document. You can do this by using the menu above and navigating to  \n",
    "**File -> Download as -> HTML (.html)**. Include the finished document along with this notebook as your submission."
   ]
  }
 ],
 "metadata": {
  "kernelspec": {
   "display_name": "Python 2",
   "language": "python",
   "name": "python2"
  },
  "language_info": {
   "codemirror_mode": {
    "name": "ipython",
    "version": 2
   },
   "file_extension": ".py",
   "mimetype": "text/x-python",
   "name": "python",
   "nbconvert_exporter": "python",
   "pygments_lexer": "ipython2",
   "version": "2.7.11"
  }
 },
 "nbformat": 4,
 "nbformat_minor": 0
}
